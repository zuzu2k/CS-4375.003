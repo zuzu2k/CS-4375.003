{
 "cells": [
  {
   "cell_type": "markdown",
   "id": "348fa773",
   "metadata": {},
   "source": [
    "# ML with SKLearn\n",
    "Author: Zuhayr Ali<br>\n",
    "November 7, 2022"
   ]
  },
  {
   "cell_type": "markdown",
   "id": "a50c29d3",
   "metadata": {},
   "source": [
    "### 1. Read the Auto data"
   ]
  },
  {
   "cell_type": "code",
   "execution_count": 1,
   "id": "fdf3409c",
   "metadata": {},
   "outputs": [
    {
     "name": "stdout",
     "output_type": "stream",
     "text": [
      "    mpg  cylinders  displacement  horsepower  weight  acceleration  year  \\\n",
      "0  18.0          8         307.0         130    3504          12.0  70.0   \n",
      "1  15.0          8         350.0         165    3693          11.5  70.0   \n",
      "2  18.0          8         318.0         150    3436          11.0  70.0   \n",
      "3  16.0          8         304.0         150    3433          12.0  70.0   \n",
      "4  17.0          8         302.0         140    3449           NaN  70.0   \n",
      "\n",
      "   origin                       name  \n",
      "0       1  chevrolet chevelle malibu  \n",
      "1       1          buick skylark 320  \n",
      "2       1         plymouth satellite  \n",
      "3       1              amc rebel sst  \n",
      "4       1                ford torino  \n",
      "\n",
      "\n",
      "dimensions: (392, 9)\n"
     ]
    }
   ],
   "source": [
    "import pandas as pd\n",
    "df = pd.read_csv('Auto.csv')\n",
    "\n",
    "print(df.head())\n",
    "print('\\n')\n",
    "print(\"dimensions:\", df.shape)"
   ]
  },
  {
   "cell_type": "markdown",
   "id": "5ee34763",
   "metadata": {},
   "source": [
    "### 2. Data exploration with code"
   ]
  },
  {
   "cell_type": "code",
   "execution_count": 2,
   "id": "cefe69ce",
   "metadata": {
    "scrolled": true
   },
   "outputs": [
    {
     "name": "stdout",
     "output_type": "stream",
     "text": [
      "count    392.000000\n",
      "mean      23.445918\n",
      "std        7.805007\n",
      "min        9.000000\n",
      "25%       17.000000\n",
      "50%       22.750000\n",
      "75%       29.000000\n",
      "max       46.600000\n",
      "Name: mpg, dtype: float64\n",
      "\n",
      "\n",
      "count     392.000000\n",
      "mean     2977.584184\n",
      "std       849.402560\n",
      "min      1613.000000\n",
      "25%      2225.250000\n",
      "50%      2803.500000\n",
      "75%      3614.750000\n",
      "max      5140.000000\n",
      "Name: weight, dtype: float64\n",
      "\n",
      "\n",
      "count    390.000000\n",
      "mean      76.010256\n",
      "std        3.668093\n",
      "min       70.000000\n",
      "25%       73.000000\n",
      "50%       76.000000\n",
      "75%       79.000000\n",
      "max       82.000000\n",
      "Name: year, dtype: float64\n"
     ]
    }
   ],
   "source": [
    "print(df.mpg.describe())     # range = (9, 46.6), average = 23.445918\n",
    "print('\\n')\n",
    "print(df.weight.describe())  # range = (1613, 5140), average = 2977.584184\n",
    "print('\\n')\n",
    "print(df.year.describe())    # range = (70, 82), average = 76.010256"
   ]
  },
  {
   "cell_type": "markdown",
   "id": "3ced143b",
   "metadata": {},
   "source": [
    "### 3. Explore data types"
   ]
  },
  {
   "cell_type": "code",
   "execution_count": 3,
   "id": "72ab4bec",
   "metadata": {},
   "outputs": [
    {
     "name": "stdout",
     "output_type": "stream",
     "text": [
      "mpg             float64\n",
      "cylinders         int64\n",
      "displacement    float64\n",
      "horsepower        int64\n",
      "weight            int64\n",
      "acceleration    float64\n",
      "year            float64\n",
      "origin            int64\n",
      "name             object\n",
      "dtype: object\n",
      "\n",
      "\n",
      "mpg              float64\n",
      "cylinders       category\n",
      "displacement     float64\n",
      "horsepower         int64\n",
      "weight             int64\n",
      "acceleration     float64\n",
      "year             float64\n",
      "origin          category\n",
      "name              object\n",
      "dtype: object\n"
     ]
    }
   ],
   "source": [
    "print(df.dtypes)\n",
    "print('\\n')\n",
    "\n",
    "df.cylinders = pd.Categorical(df.cylinders.astype(\"category\").cat.codes)\n",
    "df['origin'] = pd.Categorical(df.origin)\n",
    "\n",
    "print(df.dtypes)"
   ]
  },
  {
   "cell_type": "markdown",
   "id": "c13ca4c8",
   "metadata": {},
   "source": [
    "### 4. Deal with NAs"
   ]
  },
  {
   "cell_type": "code",
   "execution_count": 4,
   "id": "bac53930",
   "metadata": {},
   "outputs": [
    {
     "name": "stdout",
     "output_type": "stream",
     "text": [
      "dimensions: (389, 9)\n"
     ]
    }
   ],
   "source": [
    "df = df.dropna()\n",
    "print(\"dimensions:\", df.shape)"
   ]
  },
  {
   "cell_type": "markdown",
   "id": "033736a4",
   "metadata": {},
   "source": [
    "### 5. Modify columns"
   ]
  },
  {
   "cell_type": "code",
   "execution_count": 5,
   "id": "15b3089a",
   "metadata": {},
   "outputs": [
    {
     "name": "stdout",
     "output_type": "stream",
     "text": [
      "  cylinders  displacement  horsepower  weight  acceleration  year origin  \\\n",
      "0         4         307.0         130    3504          12.0  70.0      1   \n",
      "1         4         350.0         165    3693          11.5  70.0      1   \n",
      "2         4         318.0         150    3436          11.0  70.0      1   \n",
      "3         4         304.0         150    3433          12.0  70.0      1   \n",
      "6         4         454.0         220    4354           9.0  70.0      1   \n",
      "\n",
      "   mpg_high  \n",
      "0         0  \n",
      "1         0  \n",
      "2         0  \n",
      "3         0  \n",
      "6         0  \n"
     ]
    }
   ],
   "source": [
    "import numpy as np\n",
    "\n",
    "df['mpg_high'] = np.where(df.mpg > df.mpg.mean(), 1, 0)\n",
    "df = df.drop(['mpg', 'name'], axis=1)\n",
    "print(df.head())"
   ]
  },
  {
   "cell_type": "markdown",
   "id": "0373eae2",
   "metadata": {},
   "source": [
    "### 6. Data exploration with graphs"
   ]
  },
  {
   "cell_type": "code",
   "execution_count": 6,
   "id": "b286d748",
   "metadata": {},
   "outputs": [
    {
     "data": {
      "image/png": "[encoded data removed]",
      "text/plain": [
       "<Figure size 360x360 with 1 Axes>"
      ]
     },
     "metadata": {
      "needs_background": "light"
     },
     "output_type": "display_data"
    }
   ],
   "source": [
    "import seaborn as sns\n",
    "\n",
    "mpg_cat = sns.catplot(x='mpg_high', data=df) # I learned nothing I didn't already know fom making this column."
   ]
  },
  {
   "cell_type": "code",
   "execution_count": 7,
   "id": "274e0c7e",
   "metadata": {},
   "outputs": [
    {
     "data": {
      "image/png": "[encoded data removed]",
      "text/plain": [
       "<Figure size 417.25x360 with 1 Axes>"
      ]
     },
     "metadata": {
      "needs_background": "light"
     },
     "output_type": "display_data"
    }
   ],
   "source": [
    "df_rel = sns.relplot(x='horsepower', y='weight', data=df, hue='mpg_high') # Smaller and less powerful cars are more fuel efficient than larger and higher power cars."
   ]
  },
  {
   "cell_type": "code",
   "execution_count": 8,
   "id": "b2302036",
   "metadata": {},
   "outputs": [
    {
     "data": {
      "image/png": "[encoded data removed]",
      "text/plain": [
       "<Figure size 432x288 with 1 Axes>"
      ]
     },
     "metadata": {
      "needs_background": "light"
     },
     "output_type": "display_data"
    }
   ],
   "source": [
    "df_box = sns.boxplot(x='mpg_high', y='weight', data=df) # Further reinforces that smaller cars are more fuel efficient, also informs that "
   ]
  },
  {
   "cell_type": "markdown",
   "id": "6c03dc15",
   "metadata": {},
   "source": [
    "### 7. Train/test split"
   ]
  },
  {
   "cell_type": "code",
   "execution_count": 9,
   "id": "e1a35e01",
   "metadata": {},
   "outputs": [
    {
     "name": "stdout",
     "output_type": "stream",
     "text": [
      "train size: (311, 7)\n",
      "test size: (78, 7)\n"
     ]
    }
   ],
   "source": [
    "from sklearn.model_selection import train_test_split\n",
    "\n",
    "X = df.loc[:, ['cylinders', 'displacement', 'horsepower', 'weight', 'acceleration', 'year', 'origin']]\n",
    "y = df.mpg_high\n",
    "\n",
    "X_train, X_test, y_train, y_test = train_test_split(X, y, test_size=0.2, random_state=1234)\n",
    "\n",
    "print('train size:', X_train.shape)\n",
    "print('test size:', X_test.shape)"
   ]
  },
  {
   "cell_type": "markdown",
   "id": "54da47a2",
   "metadata": {},
   "source": [
    "### 8. Logistic Regression"
   ]
  },
  {
   "cell_type": "code",
   "execution_count": 10,
   "id": "ffd44d80",
   "metadata": {},
   "outputs": [
    {
     "name": "stdout",
     "output_type": "stream",
     "text": [
      "score: 0.9067524115755627\n",
      "              precision    recall  f1-score   support\n",
      "\n",
      "           0       0.98      0.80      0.88        50\n",
      "           1       0.73      0.96      0.83        28\n",
      "\n",
      "    accuracy                           0.86        78\n",
      "   macro avg       0.85      0.88      0.85        78\n",
      "weighted avg       0.89      0.86      0.86        78\n",
      "\n"
     ]
    }
   ],
   "source": [
    "from sklearn.linear_model import LogisticRegression\n",
    "\n",
    "log_clf = LogisticRegression(solver='lbfgs')\n",
    "log_clf.fit(X_train, y_train)\n",
    "print('score:', log_clf.score(X_train, y_train))\n",
    "\n",
    "log_pred = log_clf.predict(X_test)\n",
    "\n",
    "from sklearn.metrics import classification_report\n",
    "print(classification_report(y_test, log_pred))"
   ]
  },
  {
   "cell_type": "markdown",
   "id": "97068fde",
   "metadata": {},
   "source": [
    "### 9. Decision Tree"
   ]
  },
  {
   "cell_type": "code",
   "execution_count": 11,
   "id": "86c7eeab",
   "metadata": {},
   "outputs": [
    {
     "name": "stdout",
     "output_type": "stream",
     "text": [
      "score: 1.0\n",
      "              precision    recall  f1-score   support\n",
      "\n",
      "           0       0.92      0.88      0.90        50\n",
      "           1       0.80      0.86      0.83        28\n",
      "\n",
      "    accuracy                           0.87        78\n",
      "   macro avg       0.86      0.87      0.86        78\n",
      "weighted avg       0.87      0.87      0.87        78\n",
      "\n"
     ]
    }
   ],
   "source": [
    "from sklearn.tree import DecisionTreeClassifier\n",
    "\n",
    "dt_clf = DecisionTreeClassifier()\n",
    "dt_clf.fit(X_train, y_train)\n",
    "print('score:', dt_clf.score(X_train, y_train))\n",
    "\n",
    "dt_pred = dt_clf.predict(X_test)\n",
    "\n",
    "print(classification_report(y_test, dt_pred))"
   ]
  },
  {
   "cell_type": "markdown",
   "id": "94331273",
   "metadata": {},
   "source": [
    "### 10. Neural Network"
   ]
  },
  {
   "cell_type": "code",
   "execution_count": 12,
   "id": "a614e337",
   "metadata": {},
   "outputs": [
    {
     "name": "stdout",
     "output_type": "stream",
     "text": [
      "accuracy =  0.8717948717948718\n"
     ]
    }
   ],
   "source": [
    "from sklearn import preprocessing\n",
    "\n",
    "scaler = preprocessing.StandardScaler().fit(X_train)\n",
    "\n",
    "X_train_scaled = scaler.transform(X_train)\n",
    "X_test_scaled = scaler.transform(X_test)\n",
    "\n",
    "from sklearn.neural_network import MLPClassifier\n",
    "\n",
    "nn_clf = MLPClassifier(solver='lbfgs', hidden_layer_sizes=(5, 2), max_iter=500, random_state=1234)\n",
    "nn_clf.fit(X_train_scaled, y_train)\n",
    "\n",
    "nn_pred = nn_clf.predict(X_test_scaled)\n",
    "\n",
    "from sklearn.metrics import accuracy_score\n",
    "print('accuracy = ', accuracy_score(y_test, nn_pred))"
   ]
  },
  {
   "cell_type": "code",
   "execution_count": null,
   "id": "c9682c17",
   "metadata": {},
   "outputs": [],
   "source": []
  }
 ],
 "metadata": {
  "kernelspec": {
   "display_name": "Python 3 (ipykernel)",
   "language": "python",
   "name": "python3"
  },
  "language_info": {
   "codemirror_mode": {
    "name": "ipython",
    "version": 3
   },
   "file_extension": ".py",
   "mimetype": "text/x-python",
   "name": "python",
   "nbconvert_exporter": "python",
   "pygments_lexer": "ipython3",
   "version": "3.9.7"
  }
 },
 "nbformat": 4,
 "nbformat_minor": 5
}
